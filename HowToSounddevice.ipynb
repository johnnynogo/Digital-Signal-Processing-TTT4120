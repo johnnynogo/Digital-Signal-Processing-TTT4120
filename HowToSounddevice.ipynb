{
 "cells": [
  {
   "cell_type": "markdown",
   "metadata": {},
   "source": [
    "# Import Required Libraries\n",
    "Import NumPy, Matplotlib, and sounddevice for signal generation, visualization, and playback."
   ]
  },
  {
   "cell_type": "code",
   "execution_count": null,
   "metadata": {},
   "outputs": [],
   "source": [
    "# Importing required libraries for signal generation, visualization, and playback\n",
    "import numpy as np\n",
    "import matplotlib.pyplot as plt\n",
    "import sounddevice as sd"
   ]
  },
  {
   "cell_type": "markdown",
   "metadata": {},
   "source": [
    "# Define Parameters and Functions\n",
    "Define the parameters (A, f1, Fs) and the function x(n) to generate the harmonic sequence."
   ]
  },
  {
   "cell_type": "code",
   "execution_count": null,
   "metadata": {},
   "outputs": [],
   "source": [
    "# Define parameters for the harmonic sequence\n",
    "A = 1  # Amplitude of the signal\n",
    "f_1 = 0.3  # Normalized frequency\n",
    "\n",
    "# Sampling rates for different scenarios\n",
    "F_s1 = 1000  # Sampling rate 1\n",
    "F_s2 = 3000  # Sampling rate 2\n",
    "F_s3 = 12000  # Sampling rate 3\n",
    "\n",
    "# Time vector for 4 seconds\n",
    "n = np.linspace(0, 4, 4000)\n",
    "\n",
    "# Function to generate the harmonic sequence\n",
    "def x(n):\n",
    "    return A * np.cos(2 * np.pi * f_1 * n)"
   ]
  },
  {
   "cell_type": "markdown",
   "metadata": {},
   "source": [
    "# Calculate Physical Frequencies for Given Sampling Rate\n",
    "Calculate the physical frequencies F1 corresponding to the normalized frequency f1 for a sampling rate Fs = 6000Hz."
   ]
  },
  {
   "cell_type": "code",
   "execution_count": null,
   "metadata": {},
   "outputs": [],
   "source": [
    "# Calculate Physical Frequencies for Given Sampling Rate\n",
    "\n",
    "# Define the sampling rate\n",
    "Fs = 6000  # Sampling rate in Hz\n",
    "\n",
    "# Calculate the physical frequency F1 corresponding to the normalized frequency f1\n",
    "F1 = f_1 * Fs\n",
    "\n",
    "# Display the result\n",
    "F1"
   ]
  },
  {
   "cell_type": "markdown",
   "metadata": {},
   "source": [
    "# Generate and Play Harmonic Sequence for Different Sampling Rates\n",
    "Generate a 4-second sequence of x[n] and use sounddevice.play to listen to the harmonic for sampling rates Fs = 1000Hz, 3000Hz, and 12000Hz. Comment on the observations."
   ]
  },
  {
   "cell_type": "code",
   "execution_count": null,
   "metadata": {},
   "outputs": [],
   "source": [
    "# Generate and play the harmonic sequence for different sampling rates\n",
    "\n",
    "# Generate and play the sequence for Fs = 1000Hz\n",
    "sd.play(x(n), F_s1)\n",
    "print(\"Playing harmonic sequence with Fs = 1000Hz...\")\n",
    "\n",
    "# Generate and play the sequence for Fs = 3000Hz\n",
    "sd.play(x(n), F_s2)\n",
    "print(\"Playing harmonic sequence with Fs = 3000Hz...\")\n",
    "\n",
    "# Generate and play the sequence for Fs = 12000Hz\n",
    "sd.play(x(n), F_s3)\n",
    "print(\"Playing harmonic sequence with Fs = 12000Hz...\")"
   ]
  },
  {
   "cell_type": "markdown",
   "metadata": {},
   "source": [
    "# Analyze Fixed Sampling Rate with Different Physical Frequencies\n",
    "Fix the sampling rate at Fs = 8000Hz and analyze the harmonic for physical frequencies F1 = 1000Hz, 3000Hz, and 6000Hz. Relate the observations to the corresponding normalized frequency f1."
   ]
  },
  {
   "cell_type": "code",
   "execution_count": null,
   "metadata": {},
   "outputs": [],
   "source": [
    "# Fix the sampling rate at Fs = 8000Hz\n",
    "Fs_fixed = 8000  # Fixed sampling rate in Hz\n",
    "\n",
    "# Define the physical frequencies F1\n",
    "F1_values = [1000, 3000, 6000]  # Physical frequencies in Hz\n",
    "\n",
    "# Generate and play the harmonic sequence for each physical frequency\n",
    "for F1 in F1_values:\n",
    "    # Calculate the normalized frequency f1\n",
    "    f1 = F1 / Fs_fixed\n",
    "    \n",
    "    # Generate the harmonic sequence\n",
    "    n_fixed = np.linspace(0, 4, Fs_fixed * 4)  # Time vector for 4 seconds\n",
    "    x_fixed = A * np.cos(2 * np.pi * f1 * n_fixed)\n",
    "    \n",
    "    # Play the harmonic sequence\n",
    "    sd.play(x_fixed, Fs_fixed)\n",
    "    print(f\"Playing harmonic sequence with F1 = {F1}Hz and normalized frequency f1 = {f1:.2f}...\")\n",
    "    sd.wait()  # Wait until the sound playback is finished"
   ]
  }
 ],
 "metadata": {
  "language_info": {
   "name": "python"
  }
 },
 "nbformat": 4,
 "nbformat_minor": 2
}
